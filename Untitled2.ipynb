{
 "cells": [
  {
   "cell_type": "code",
   "execution_count": 2,
   "metadata": {
    "scrolled": true
   },
   "outputs": [
    {
     "name": "stdout",
     "output_type": "stream",
     "text": [
      "Confusion matrix :  [[ 69.  44.]\n",
      " [ 29. 108.]]\n",
      "Accuracy is ::::  0.84\n"
     ]
    }
   ],
   "source": [
    "from sklearn.model_selection import cross_validate\n",
    "from sklearn.metrics import confusion_matrix\n",
    "import numpy as np\n",
    "import sklearn\n",
    "from sklearn.metrics import accuracy_score\n",
    "from sklearn import metrics\n",
    "import Untitled1 as ga\n",
    "__author__ = 'chander_sandhya'\n",
    "from sklearn.model_selection import cross_val_score,KFold\n",
    "import Untitled as NN\n",
    "cnf=np.zeros(2)\n",
    "\n",
    "kf=sklearn.model_selection.KFold(n_splits=10,shuffle=False,random_state=None)\n",
    "for train,test in kf.split(NN.x):\n",
    "\n",
    "    \n",
    "    y_test=NN.y.loc[test]\n",
    "    y_pred=ga.genetic(NN.x,NN.y,NN.x.loc[test])\n",
    "    confusion = confusion_matrix(y_test,y_pred)\n",
    "    cnf=cnf+confusion\n",
    "    accuracy=accuracy_score(y_test, y_pred)\n",
    "\n",
    "\n",
    "print (\"Confusion matrix : \",cnf)\n",
    "print(\"Accuracy is :::: \",accuracy)\n"
   ]
  },
  {
   "cell_type": "code",
   "execution_count": null,
   "metadata": {},
   "outputs": [],
   "source": []
  }
 ],
 "metadata": {
  "kernelspec": {
   "display_name": "Python 3",
   "language": "python",
   "name": "python3"
  },
  "language_info": {
   "codemirror_mode": {
    "name": "ipython",
    "version": 3
   },
   "file_extension": ".py",
   "mimetype": "text/x-python",
   "name": "python",
   "nbconvert_exporter": "python",
   "pygments_lexer": "ipython3",
   "version": "3.7.3"
  }
 },
 "nbformat": 4,
 "nbformat_minor": 2
}
